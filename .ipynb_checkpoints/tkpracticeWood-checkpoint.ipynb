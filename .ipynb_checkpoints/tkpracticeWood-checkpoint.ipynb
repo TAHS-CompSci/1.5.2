{
 "cells": [
  {
   "cell_type": "code",
   "execution_count": 2,
   "metadata": {},
   "outputs": [],
   "source": [
    "import tkinter\n",
    "root=tkinter.Tk()\n",
    "root.mainloop()"
   ]
  },
  {
   "cell_type": "code",
   "execution_count": 40,
   "metadata": {},
   "outputs": [
    {
     "ename": "NameError",
     "evalue": "name '__file__' is not defined",
     "output_type": "error",
     "traceback": [
      "\u001b[1;31m---------------------------------------------------------------------------\u001b[0m",
      "\u001b[1;31mNameError\u001b[0m                                 Traceback (most recent call last)",
      "\u001b[1;32m<ipython-input-40-49d157ab00a5>\u001b[0m in \u001b[0;36m<module>\u001b[1;34m\u001b[0m\n\u001b[0;32m     31\u001b[0m \u001b[1;31m# Get a filename in the same directory as this program\u001b[0m\u001b[1;33m\u001b[0m\u001b[1;33m\u001b[0m\u001b[1;33m\u001b[0m\u001b[0m\n\u001b[0;32m     32\u001b[0m \u001b[1;32mimport\u001b[0m \u001b[0mos\u001b[0m\u001b[1;33m.\u001b[0m\u001b[0mpath\u001b[0m\u001b[1;33m\u001b[0m\u001b[1;33m\u001b[0m\u001b[0m\n\u001b[1;32m---> 33\u001b[1;33m \u001b[0mdirectory\u001b[0m \u001b[1;33m=\u001b[0m \u001b[0mos\u001b[0m\u001b[1;33m.\u001b[0m\u001b[0mpath\u001b[0m\u001b[1;33m.\u001b[0m\u001b[0mdirname\u001b[0m\u001b[1;33m(\u001b[0m\u001b[0mos\u001b[0m\u001b[1;33m.\u001b[0m\u001b[0mpath\u001b[0m\u001b[1;33m.\u001b[0m\u001b[0mabspath\u001b[0m\u001b[1;33m(\u001b[0m\u001b[0m__file__\u001b[0m\u001b[1;33m)\u001b[0m\u001b[1;33m)\u001b[0m\u001b[1;33m\u001b[0m\u001b[1;33m\u001b[0m\u001b[0m\n\u001b[0m\u001b[0;32m     34\u001b[0m \u001b[0mfilename\u001b[0m \u001b[1;33m=\u001b[0m \u001b[0mos\u001b[0m\u001b[1;33m.\u001b[0m\u001b[0mpath\u001b[0m\u001b[1;33m.\u001b[0m\u001b[0mjoin\u001b[0m\u001b[1;33m(\u001b[0m\u001b[0mdirectory\u001b[0m\u001b[1;33m,\u001b[0m \u001b[1;34m'canopyIcon.jpg'\u001b[0m\u001b[1;33m)\u001b[0m\u001b[1;33m\u001b[0m\u001b[1;33m\u001b[0m\u001b[0m\n\u001b[0;32m     35\u001b[0m \u001b[1;33m\u001b[0m\u001b[0m\n",
      "\u001b[1;31mNameError\u001b[0m: name '__file__' is not defined"
     ]
    }
   ],
   "source": [
    "from tkinter import * # Don’t import like this except for Tkinter\n",
    "root = Tk() # Create main window\n",
    "\n",
    "# Make and place a Canvas widget for events and drawing\n",
    "canvas = Canvas(root, height=600, width=600, relief=RAISED, bg='white')\n",
    "canvas.grid()# Puts the canvas in the main Tk window\n",
    "  \n",
    "# Make four objects on the canvas\n",
    "checkbox = canvas.create_rectangle(100, 200, 200, 300, dash=[1,4])\n",
    "check = canvas.create_line(100, 250, 150, 300, 220, 150, fill='red', width=20)\n",
    "message = canvas.create_text(380, 250, text='Try this!', font=('Arial', -100))\n",
    "shadow = canvas.create_oval(100,450,500,550, fill='#888888', outline='#888888')\n",
    "  \n",
    "# Make an array of objects on the canvas\n",
    "circles=[]\n",
    "for r in range(10, 60, 10):\n",
    "    circles.append(canvas.create_oval(300-r, 400-r, 300+r, 400+r, outline='red'))\n",
    "  \n",
    "# Make one more object on the canvas\n",
    "canopy = canvas.create_arc(0, 50, 600, 650, start=30, extent=120, \n",
    "                          width=50, style=ARC) \n",
    "# Demonstrate changing a property of canvas' item.\n",
    "canvas.itemconfig(circles[2], outline='black') # Change color\n",
    "a, b, c, d = canvas.coords(circles[2]) # Get coordinates\n",
    "canvas.coords(circles[2], a, b-5, c, d-5) # Change coordinates\n",
    "canvas.itemconfig(circles[0], fill='black', width=3)\n",
    "a, b, c, d = canvas.coords(circles[0])\n",
    "canvas.coords(circles[0], a+4, b-1, c+4, d-1)\n",
    "# Enter event loop. This displays the GUI and starts listening for events.\n",
    "# Enter event loop. This displays the GUI and starts listening for events.\n",
    "# Get a filename in the same directory as this program\n",
    "import os.path\n",
    "directory = os.path.dirname(os.path.abspath(__file__)) \n",
    "filename = os.path.join(directory, 'canopyIcon.jpg')\n",
    "  \n",
    "# Open the image file and convert to an ImageTk object\n",
    "import PIL.Image, PIL.ImageTk\n",
    "img = PIL.Image.open(filename) # create a PIL.Image from the jpg file\n",
    "tkimg = PIL.ImageTk.PhotoImage(img) # convert the PIL.Image to a PIL.TkImage\n",
    "  \n",
    "# Add the ImageTk object to the canvas.\n",
    "icon = canvas.create_image(tkimg, 150, 250)\n",
    "  \n",
    "# Enter event loop. This displays the GUI and starts listening\n",
    "root.mainloop()"
   ]
  },
  {
   "cell_type": "code",
   "execution_count": null,
   "metadata": {},
   "outputs": [],
   "source": []
  }
 ],
 "metadata": {
  "kernelspec": {
   "display_name": "Python 3.7.4 64-bit",
   "language": "python",
   "name": "python37464bit5dc8ddd6ed5d43599cd875b64de6d863"
  },
  "language_info": {
   "codemirror_mode": {
    "name": "ipython",
    "version": 3
   },
   "file_extension": ".py",
   "mimetype": "text/x-python",
   "name": "python",
   "nbconvert_exporter": "python",
   "pygments_lexer": "ipython3",
   "version": "3.7.4"
  }
 },
 "nbformat": 4,
 "nbformat_minor": 2
}
