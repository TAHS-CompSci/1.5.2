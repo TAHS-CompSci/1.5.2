{
 "cells": [
  {
   "cell_type": "code",
   "execution_count": 27,
   "metadata": {},
   "outputs": [],
   "source": [
    "import tkinter\n",
    "root=tkinter.Tk()\n",
    "root.mainloop()"
   ]
  },
  {
   "cell_type": "code",
   "execution_count": 32,
   "metadata": {},
   "outputs": [],
   "source": [
    "from tkinter import * # Don’t import like this except for Tkinter\n",
    "root = Tk() # Create main window\n",
    "\n",
    "# Make and place a Canvas widget for events and drawing\n",
    "canvas = Canvas(root, height=600, width=600, relief=RAISED, bg='white')\n",
    "canvas.grid()# Puts the canvas in the main Tk window\n",
    "  \n",
    "# Make four objects on the canvas\n",
    "checkbox = canvas.create_rectangle(100, 200, 200, 300, dash=[1,4])\n",
    "check = canvas.create_line(100, 250, 150, 300, 220, 150, fill='red', width=20)\n",
    "message = canvas.create_text(380, 250, text='Try this!', font=('Arial', -100))\n",
    "shadow = canvas.create_oval(100,450,500,550, fill='#888888', outline='#888888')\n",
    "  \n",
    "# Make an array of objects on the canvas\n",
    "circles=[]\n",
    "for r in range(10, 60, 10):\n",
    "    circles.append(canvas.create_oval(300-r, 400-r, 300+r, 400+r, outline='red'))\n",
    "  \n",
    "# Make one more object on the canvas\n",
    "canopy = canvas.create_arc(0, 50, 600, 650, start=30, extent=120, \n",
    "                          width=50, style=ARC) \n",
    "# Demonstrate changing a property of canvas' item.\n",
    "canvas.itemconfig(circles[2], outline='black') # Change color\n",
    "a, b, c, d = canvas.coords(circles[2]) # Get coordinates\n",
    "canvas.coords(circles[2], a, b-5, c, d-5) # Change coordinates\n",
    "canvas.itemconfig(circles[0], fill='black', width=3)\n",
    "a, b, c, d = canvas.coords(circles[0])\n",
    "canvas.coords(circles[0], a+4, b-1, c+4, d-1)\n",
    "# Enter event loop. This displays the GUI and starts listening for events.\n",
    "# Enter event loop. This displays the GUI and starts listening for events.\n",
    "\n",
    "root.mainloop()"
   ]
  },
  {
   "cell_type": "code",
   "execution_count": null,
   "metadata": {},
   "outputs": [],
   "source": []
  }
 ],
 "metadata": {
  "kernelspec": {
   "name": "python37464bit5dc8ddd6ed5d43599cd875b64de6d863",
   "display_name": "Python 3.7.4 64-bit"
  }
 },
 "nbformat": 4,
 "nbformat_minor": 2
}